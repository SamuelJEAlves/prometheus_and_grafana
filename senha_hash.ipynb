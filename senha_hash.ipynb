{
 "cells": [
  {
   "cell_type": "markdown",
   "metadata": {},
   "source": [
    "# Por que usar bcrypt?\n",
    "\n",
    "- Gera salt aleatório\n",
    "- Robusto contra ataques de força bruta\n",
    "- Pode ser ajustado quanto a complexidade ao longo do tempo"
   ]
  },
  {
   "cell_type": "markdown",
   "metadata": {},
   "source": [
    "# Gerar hash de senha para Prometheus"
   ]
  },
  {
   "cell_type": "code",
   "execution_count": 1,
   "metadata": {},
   "outputs": [
    {
     "name": "stdout",
     "output_type": "stream",
     "text": [
      "Requirement already satisfied: bcrypt in c:\\users\\samue\\appdata\\local\\programs\\python\\python311\\lib\\site-packages (4.0.1)\n",
      "Note: you may need to restart the kernel to use updated packages.\n"
     ]
    },
    {
     "name": "stderr",
     "output_type": "stream",
     "text": [
      "\n",
      "[notice] A new release of pip is available: 24.0 -> 25.0\n",
      "[notice] To update, run: python.exe -m pip install --upgrade pip\n"
     ]
    }
   ],
   "source": [
    "pip install bcrypt"
   ]
  },
  {
   "cell_type": "code",
   "execution_count": 1,
   "metadata": {},
   "outputs": [
    {
     "name": "stdout",
     "output_type": "stream",
     "text": [
      "$2b$12$6nz5Y/UgceIPpZ0aWUWAUeTTDIAGe8ZFMksKD9JaOP3mrEqnPda/G\n"
     ]
    }
   ],
   "source": [
    "import bcrypt\n",
    "\n",
    "senha = 'cerveja-gelada'\n",
    "\n",
    "senha_em_bytes = senha.encode('utf-8')\n",
    "\n",
    "# Valor aleatório adicionado à senha para dificultar a descriptografia\n",
    "# Parâmetro opcional (round) aumenta a complexidade da criptografia quanto maior o valor\n",
    "gera_salt = bcrypt.gensalt(rounds=12)\n",
    " \n",
    "senha_criptografada = bcrypt.hashpw(senha_em_bytes, gera_salt)\n",
    "\n",
    "retorna_string = senha_criptografada.decode('utf-8')\n",
    "\n",
    "print(retorna_string)"
   ]
  },
  {
   "cell_type": "markdown",
   "metadata": {},
   "source": [
    "# Verificar hash"
   ]
  },
  {
   "cell_type": "code",
   "execution_count": 3,
   "metadata": {},
   "outputs": [
    {
     "name": "stdout",
     "output_type": "stream",
     "text": [
      "Senha correta\n"
     ]
    }
   ],
   "source": [
    "senha_digitada = input('Digite a senha para verificar: ')\n",
    "\n",
    "senha_digitada_em_bytes = senha_digitada.encode('utf-8')\n",
    "\n",
    "if bcrypt.checkpw(senha_digitada_em_bytes, senha_criptografada):\n",
    "    print('Senha correta')\n",
    "else:\n",
    "    print('Senha incorreta')"
   ]
  }
 ],
 "metadata": {
  "kernelspec": {
   "display_name": "Python 3",
   "language": "python",
   "name": "python3"
  },
  "language_info": {
   "codemirror_mode": {
    "name": "ipython",
    "version": 3
   },
   "file_extension": ".py",
   "mimetype": "text/x-python",
   "name": "python",
   "nbconvert_exporter": "python",
   "pygments_lexer": "ipython3",
   "version": "3.11.5"
  }
 },
 "nbformat": 4,
 "nbformat_minor": 2
}
