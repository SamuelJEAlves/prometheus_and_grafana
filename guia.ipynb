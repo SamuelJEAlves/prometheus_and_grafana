{
 "cells": [
  {
   "cell_type": "markdown",
   "metadata": {},
   "source": [
    "# Prometheus\n",
    "\n",
    "- Monitoramento e alerta open source\n",
    "- Coleta dados como time series (carimbos de tempo)\n",
    "- Permite integração visual com Grafana\n",
    "- Linguagem PromQL"
   ]
  },
  {
   "cell_type": "markdown",
   "metadata": {},
   "source": [
    "# Conceitos Principais\n",
    "\n",
    "- Métricas: Dados coletados que representam o estado ou comportamento de um sistema.\n",
    "- Pull-based: coleta métricas consultando endpoints HTTP das aplicações.\n",
    "- Séries Temporais: Sequência de dados ao longo do tempo para uma métrica específica."
   ]
  },
  {
   "cell_type": "markdown",
   "metadata": {},
   "source": [
    "# Tipos de Métricas no Prometheus\n",
    "\n",
    "- Counter → Sempre cresce (exemplo: total de requisições).\n",
    "- Gauge → Pode subir e descer (exemplo: temperatura, uso de CPU).\n",
    "- Histogram → Mede distribuições (exemplo: tempo de resposta).\n",
    "- Summary → Similar ao Histogram, mas retorna percentis."
   ]
  },
  {
   "cell_type": "markdown",
   "metadata": {},
   "source": [
    "# Tipos de Regras no Prometheus\n",
    "\n",
    "### Regras de Gravação \n",
    "- Servem para armazenar cálculos pré-processados como novas métricas. Isso melhora o desempenho ao evitar cálculos repetitivos.\n",
    "### Exemplo de Regra de Gravação\n",
    "- Criar uma nova métrica cpu_usage_avg que calcula a média da CPU usada em um intervalo de tempo\n",
    "### Benefícios da Regra de Gravação\n",
    "- Reduzem o tempo de resposta das consultas.\n",
    "- Evitam cálculos repetidos para métricas frequentemente consultadas.\n",
    "- Melhoram o desempenho geral do Prometheus.\n",
    "\n",
    "### Regras de Alerta\n",
    "- Disparar alertas automáticos quando uma métrica atinge um determinado valor.\n",
    "### Exemplo de Regra de Alerta\n",
    "- Criar um alerta quando a CPU está acima de 80% por mais de 5 minutos.\n",
    "### Benefícios da Regras de Alerta\n",
    "- Permitem monitoramento automático.\n",
    "- Facilitam a detecção de problemas críticos.\n",
    "- Podem ser integradas com Alertmanager, Slack, E-mails e outras ferramentas."
   ]
  },
  {
   "cell_type": "markdown",
   "metadata": {},
   "source": [
    "# Arquitetura do Prometheus\n",
    "\n",
    "- Prometheus Server: O núcleo que coleta e armazena métricas.\n",
    "- Exporters: Aplicações que expõem métricas para o Prometheus (exemplo: Node Exporter para métricas do sistema operacional).\n",
    "- Pushgateway: Para serviços que não podem ser consultados diretamente.\n",
    "- Alertmanager: Para gerenciar alertas com notificações para Slack, email, etc.\n",
    "- Grafana: Usado para criar dashboards de visualização das métricas."
   ]
  }
 ],
 "metadata": {
  "language_info": {
   "name": "python"
  }
 },
 "nbformat": 4,
 "nbformat_minor": 2
}
